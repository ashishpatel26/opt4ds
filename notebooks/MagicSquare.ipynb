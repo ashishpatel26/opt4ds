{
 "cells": [
  {
   "cell_type": "markdown",
   "metadata": {},
   "source": [
    "# Magic Square by Integer Linear Programming\n",
    "In this exercise, we have to wrote an ILP model to the Magic Square puzzle.\n",
    "\n",
    "The puzzle asks to place into a grid of size $n \\times n$ the digits from $1$ to $n^2$, in such a way that the sum of the digits in each row, the sum of digits in each column, and the sum of the digits on the two main diagonals, is equal to the same number.\n",
    "\n",
    "You have to specify:\n",
    "\n",
    "1. **The decision variables**\n",
    "2. **The objective function**\n",
    "3. **The contraints**\n",
    "\n",
    "Once you have the model, solve the Magic square problem for increasing value of $n$."
   ]
  },
  {
   "cell_type": "code",
   "execution_count": null,
   "metadata": {},
   "outputs": [],
   "source": []
  }
 ],
 "metadata": {
  "kernelspec": {
   "display_name": "Python 3",
   "language": "python",
   "name": "python3"
  },
  "language_info": {
   "codemirror_mode": {
    "name": "ipython",
    "version": 3
   },
   "file_extension": ".py",
   "mimetype": "text/x-python",
   "name": "python",
   "nbconvert_exporter": "python",
   "pygments_lexer": "ipython3",
   "version": "3.8.5"
  }
 },
 "nbformat": 4,
 "nbformat_minor": 4
}
