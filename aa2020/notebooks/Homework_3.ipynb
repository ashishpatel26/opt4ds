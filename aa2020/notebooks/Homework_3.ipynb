{
 "cells": [
  {
   "cell_type": "markdown",
   "metadata": {},
   "source": [
    "<a rel=\"license\" href=\"http://creativecommons.org/licenses/by/4.0/\"><img alt=\"Creative Commons License\" style=\"border-width:0\" src=\"https://i.creativecommons.org/l/by/4.0/88x31.png\" /></a><br /><span xmlns:dct=\"http://purl.org/dc/terms/\" property=\"dct:title\"><b>Optimal Transport: An Appetizer</b></span> by <a xmlns:cc=\"http://creativecommons.org/ns#\" href=\"http://mate.unipv.it/gualandi\" property=\"cc:attributionName\" rel=\"cc:attributionURL\">Stefano Gualandi</a> is licensed under a <a rel=\"license\" href=\"http://creativecommons.org/licenses/by/4.0/\">Creative Commons Attribution 4.0 International License</a>.<br />Based on a work at <a xmlns:dct=\"http://purl.org/dc/terms/\" href=\"https://github.com/mathcoding/opt4ds\" rel=\"dct:source\">https://github.com/mathcoding/opt4ds</a>."
   ]
  },
  {
   "cell_type": "markdown",
   "metadata": {},
   "source": [
    "# Optimal Transport: An Appetizer\n",
    "Exercises for the third lab session, see the corresponding slides on KIRO, the official *Moodle* of our university (i.e., UniPv, Italy)."
   ]
  },
  {
   "cell_type": "markdown",
   "metadata": {},
   "source": [
    "### Running this notebook on Colab\n",
    "Run the following snippet if you are running this notebook in [Colab](https://colab.research.google.com/)."
   ]
  },
  {
   "cell_type": "code",
   "execution_count": null,
   "metadata": {},
   "outputs": [],
   "source": [
    "import shutil\n",
    "import sys\n",
    "import os.path\n",
    "\n",
    "if not shutil.which(\"pyomo\"):\n",
    "    !pip install -q pyomo\n",
    "    assert(shutil.which(\"pyomo\"))\n",
    "\n",
    "if not (shutil.which(\"ipopt\") or os.path.isfile(\"ipopt\")):\n",
    "    if \"google.colab\" in sys.modules:\n",
    "        !apt-get install -y -qq glpk-utils\n",
    "    else:\n",
    "        try:\n",
    "            !conda install -c conda-forge glpk \n",
    "        except:\n",
    "            pass"
   ]
  },
  {
   "cell_type": "markdown",
   "metadata": {},
   "source": [
    "## Introduction\n",
    "Consider the two following 1D discrete distributions:\n",
    "$$\n",
    "\\mu = \\left[ (\\mu_1=0.01, x_1=0,), (\\mu_2=0.02, x_2=1), (\\mu_3=0.97, x_3 = 2) \\right] \n",
    "$$\n",
    "$$\n",
    "\\nu = \\left[ (\\nu_1=0.3, x_1=0,), (\\nu_2=0.39, x_2=1), (\\nu_3=0.14, x_3 = 2), (\\nu_4=0.17, x_4 = 3) \\right]\n",
    "$$\n",
    "with cost given by the ground distance $c(x_i, x_j) = |x_i - x_j|^2$."
   ]
  },
  {
   "cell_type": "code",
   "execution_count": 1,
   "metadata": {},
   "outputs": [
    {
     "name": "stdout",
     "output_type": "stream",
     "text": [
      "[0.30374952 0.38775918 0.14385246 0.16463884]\n",
      "[0.00854421 0.02383016 0.96762564]\n"
     ]
    }
   ],
   "source": [
    "# The previous distribution are generated with the following snippet:\n",
    "import numpy as np   # NumPy: Numerical Python\n",
    "\n",
    "Normalize = lambda x: x/sum(x)\n",
    "\n",
    "np.random.seed(13)\n",
    "Mu = Normalize(np.random.chisquare(1, 4))\n",
    "Nu = Normalize(np.random.chisquare(1, 3))\n",
    "\n",
    "print(Mu)\n",
    "print(Nu)"
   ]
  },
  {
   "cell_type": "markdown",
   "metadata": {},
   "source": [
    "Note the $\\mu$ and $\\nu$ are [**Numpy**](https://numpy.org/) array, which are similar to **Matlab** and **C** vector:"
   ]
  },
  {
   "cell_type": "code",
   "execution_count": 2,
   "metadata": {},
   "outputs": [
    {
     "name": "stdout",
     "output_type": "stream",
     "text": [
      "<class 'numpy.ndarray'> <class 'numpy.ndarray'>\n"
     ]
    }
   ],
   "source": [
    "print(type(Mu), type(Nu))"
   ]
  },
  {
   "cell_type": "markdown",
   "metadata": {},
   "source": [
    "Using Numpy, it is possible to define also matrix like in Matlab:"
   ]
  },
  {
   "cell_type": "code",
   "execution_count": 3,
   "metadata": {},
   "outputs": [
    {
     "name": "stdout",
     "output_type": "stream",
     "text": [
      "[[0. 0. 0.]\n",
      " [0. 0. 0.]\n",
      " [0. 0. 0.]]\n",
      "[[1. 1. 1.]\n",
      " [1. 1. 1.]\n",
      " [1. 1. 1.]\n",
      " [1. 1. 1.]]\n",
      "[[1. 0. 0. 0. 0.]\n",
      " [0. 1. 0. 0. 0.]\n",
      " [0. 0. 1. 0. 0.]\n",
      " [0. 0. 0. 1. 0.]\n",
      " [0. 0. 0. 0. 1.]]\n"
     ]
    }
   ],
   "source": [
    "Zero = np.zeros((3,3))\n",
    "print(Zero)\n",
    "\n",
    "One = np.ones((4,3))\n",
    "print(One)\n",
    "\n",
    "Diag = np.zeros((5,5))\n",
    "for i in range(5):\n",
    "    Diag[i,i] = 1\n",
    "print(Diag)"
   ]
  },
  {
   "cell_type": "markdown",
   "metadata": {},
   "source": [
    "**SIMPLE BENCHMARKING:** Sometime, it is important to measure the runtime of different algorithms that solve the same problem. To measure runtime, you can use the [perf_counter()](https://docs.python.org/3/library/time.html#time.perf_counter) function of the [time]() library:"
   ]
  },
  {
   "cell_type": "code",
   "execution_count": null,
   "metadata": {},
   "outputs": [],
   "source": [
    "from time import perf_counter\n",
    "t0 = perf_counter()\n",
    "# RUN LONG TIME INTENSIVE COMPUTATION\n",
    "print(perf_counter() - t0)"
   ]
  },
  {
   "cell_type": "markdown",
   "metadata": {},
   "source": [
    "**SOLUTION CHECKER:** In algorithm development, it is always crucial to have a **solution checker**, independent of the solution algorithm, that is used to check that the algorithm under development always returns at least a feasible solution.\n",
    "\n",
    "Hence, for this lab session, write a function that takes in input two discrete distributions $\\mu$ and $\\nu$, and a transportation plan $\\pi$, and check if the plan is feasible."
   ]
  },
  {
   "cell_type": "code",
   "execution_count": null,
   "metadata": {},
   "outputs": [],
   "source": [
    "# TO BE COMPLETED\n",
    "    def CheckSolution(Mu, Nu, plan, tol=0.000001):\n",
    "    return True"
   ]
  },
  {
   "cell_type": "markdown",
   "metadata": {},
   "source": [
    "**GRAPHICAL REPRESENTATION:** In addition to a solution checker, it is recommended to always try to have a graphical intuitive representation of the solution. For the transportation problem of this Lab session, you can use the following function:"
   ]
  },
  {
   "cell_type": "code",
   "execution_count": null,
   "metadata": {},
   "outputs": [],
   "source": [
    "def MovingAvg(Ls, w=3):\n",
    "    return [sum(Ls[max(0,i-w):min(len(Ls),i+w)])/(2*w) for i in range(len(Ls))]\n",
    "\n",
    "def PlotGauss(x, mu, nu, plan):\n",
    "    from matplotlib import pyplot as mp\n",
    "    from math import ceil\n",
    "\n",
    "    mp.plot(x, mu)\n",
    "    mp.plot(x, nu)\n",
    "    \n",
    "    # Displacement Interpolation\n",
    "    a = 0.5\n",
    "    pi = [0.0 for _ in x]\n",
    "    for i,j in plan:\n",
    "        h = ceil(a*i + (1-a)*j)\n",
    "        pi[h] += plan[i,j]\n",
    "        \n",
    "    mp.plot(x, MovingAvg(pi, w=5))\n",
    "                \n",
    "    #mp.savefig(\"twoMeasInter.pdf\", bbox_inches='tight')\n",
    "    mp.show()"
   ]
  },
  {
   "cell_type": "markdown",
   "metadata": {},
   "source": [
    "## Exercises\n",
    "In the following, try to solve the following exercise:\n",
    "\n",
    "1. Write on paper the full LP model to compute $W_e(\\mu, \\nu)$ with the given ground distance. \n",
    "\n",
    "2. Implement in Pyomo your Model, and verify that you solution found by hand is indeed an optimal solution.\n",
    "\n",
    "3. Write on paper the dual of the LP problem, along with the *complementary slackness conditions*. What can you deduce by the slackness conditions? \n",
    "\n",
    "4. Apply the **Complementary Slackness Theorem* to design an algorithm that solve 1D Optimal Transport problem with a runtime complexity of $O(n+m)$, where $m$ is the size of $\\mu$ and $m$ of $\\nu$. You algorithm must compute both the primal and the dual optimal solutions.\n",
    "\n",
    "5. Compare the running time of your algorithm with the runtime of GLPK used via Pyomo, for increasing size of $n$ and $m$.\n",
    "\n",
    "6. What can you deduce by the *complementary slackness condition* for 2D OT problems? Can you design an efficient algorithm with complexity lower than $O((n+m) \\log{(n+m)})$?\n",
    "\n",
    "\n",
    "**TODO:** COMPLETE BELOW WITH YOUR CODE."
   ]
  },
  {
   "cell_type": "code",
   "execution_count": null,
   "metadata": {},
   "outputs": [],
   "source": [
    "from pyomo.environ import ConcreteModel, Var, Objective, Constraint, SolverFactory\n",
    "from pyomo.environ import maximize, minimize, Binary, RangeSet, ConstraintList\n",
    "\n",
    "# WRITE YOUR MODEL\n",
    "def OT_LP(Mu, Nu):\n",
    "    # Main Pyomo model\n",
    "    model = ConcreteModel()\n",
    "    \n",
    "    # Return the optimal solution value, and a dictionary with the optimal plan\n",
    "    # dictionary: (i,j) -> \\pi_ij\n",
    "    return 0, []"
   ]
  },
  {
   "cell_type": "code",
   "execution_count": null,
   "metadata": {},
   "outputs": [],
   "source": [
    "# WRITE YOUR 1D OT algorithm\n",
    "def OT_1D(Mu, Nu):\n",
    "    # Return the optimal solution value, and a dictionary with the optimal plan\n",
    "    # dictionary: (i,j) -> \\pi_ij\n",
    "    return 0, []"
   ]
  },
  {
   "cell_type": "markdown",
   "metadata": {},
   "source": [
    "Once you have written the two functions above, you can compare the running time:"
   ]
  },
  {
   "cell_type": "code",
   "execution_count": null,
   "metadata": {},
   "outputs": [],
   "source": [
    "from time import perf_counter\n",
    "\n",
    "for c in range(100):\n",
    "    np.random.seed(13*c)\n",
    "    Mu = Normalize(np.random.chisquare(1, 200))\n",
    "    Nu = Normalize(np.random.chisquare(1, 100))\n",
    "\n",
    "    t0 = perf_counter()\n",
    "    zs, pi_LP = OT_LP(Mu, Nu)\n",
    "    print(zs, perf_counter() - t0, CheckSolution(Mu, Nu, pi_LP))\n",
    "    \n",
    "    t0 = perf_counter()\n",
    "    z, pi = OT_1D(Mu, Nu)\n",
    "    print(z, perf_counter() - t0, CheckSolution(Mu, Nu, pi))"
   ]
  },
  {
   "cell_type": "markdown",
   "metadata": {},
   "source": [
    "## Displacement Interpolation\n",
    "If you like to play with the displacement interpolation figures of the slides, you can run the following code:"
   ]
  },
  {
   "cell_type": "code",
   "execution_count": null,
   "metadata": {},
   "outputs": [],
   "source": [
    "x = np.linspace(0, 10, 2000)\n",
    "Mu = Normalize(Gauss(x, 2, 0.4)+Gauss(x, 5, 1.2))\n",
    "Nu = Normalize(Gauss(x, 6, 1))\n",
    "\n",
    "PlotGauss(x, Mu, Nu, pi)"
   ]
  }
 ],
 "metadata": {
  "kernelspec": {
   "display_name": "Python 3",
   "language": "python",
   "name": "python3"
  },
  "language_info": {
   "codemirror_mode": {
    "name": "ipython",
    "version": 3
   },
   "file_extension": ".py",
   "mimetype": "text/x-python",
   "name": "python",
   "nbconvert_exporter": "python",
   "pygments_lexer": "ipython3",
   "version": "3.7.4"
  },
  "latex_envs": {
   "LaTeX_envs_menu_present": true,
   "autoclose": false,
   "autocomplete": true,
   "bibliofile": "biblio.bib",
   "cite_by": "apalike",
   "current_citInitial": 1,
   "eqLabelWithNumbers": true,
   "eqNumInitial": 1,
   "hotkeys": {
    "equation": "Ctrl-E",
    "itemize": "Ctrl-I"
   },
   "labels_anchors": false,
   "latex_user_defs": false,
   "report_style_numbering": false,
   "user_envs_cfg": false
  }
 },
 "nbformat": 4,
 "nbformat_minor": 2
}
