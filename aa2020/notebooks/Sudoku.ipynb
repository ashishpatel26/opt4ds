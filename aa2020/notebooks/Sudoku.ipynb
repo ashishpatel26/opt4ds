{
 "cells": [
  {
   "cell_type": "markdown",
   "metadata": {},
   "source": [
    "<a rel=\"license\" href=\"http://creativecommons.org/licenses/by/4.0/\"><img alt=\"Creative Commons License\" style=\"border-width:0\" src=\"https://i.creativecommons.org/l/by/4.0/88x31.png\" /></a><br /><span xmlns:dct=\"http://purl.org/dc/terms/\" property=\"dct:title\"><b>A Sudoku Solver</b></span> by <a xmlns:cc=\"http://creativecommons.org/ns#\" href=\"http://mate.unipv.it/gualandi\" property=\"cc:attributionName\" rel=\"cc:attributionURL\">Stefano Gualandi</a> is licensed under a <a rel=\"license\" href=\"http://creativecommons.org/licenses/by/4.0/\">Creative Commons Attribution 4.0 International License</a>.<br />Based on a work at <a xmlns:dct=\"http://purl.org/dc/terms/\" href=\"https://github.com/mathcoding/opt4ds\" rel=\"dct:source\">https://github.com/mathcoding/opt4ds</a>."
   ]
  },
  {
   "cell_type": "markdown",
   "metadata": {},
   "source": [
    "**NOTE:** Run the following script whenever running this script on a Google Colab."
   ]
  },
  {
   "cell_type": "code",
   "execution_count": null,
   "metadata": {},
   "outputs": [],
   "source": [
    "import shutil\n",
    "import sys\n",
    "import os.path\n",
    "\n",
    "if not shutil.which(\"pyomo\"):\n",
    "    !pip install -q pyomo\n",
    "    assert(shutil.which(\"pyomo\"))\n",
    "\n",
    "if not (shutil.which(\"glpk\") or os.path.isfile(\"glpk\")):\n",
    "    if \"google.colab\" in sys.modules:\n",
    "        !apt-get install -y -qq glpk-utils\n",
    "    else:\n",
    "        try:\n",
    "            !conda install -c conda-forge glpk \n",
    "        except:\n",
    "            pass"
   ]
  },
  {
   "cell_type": "markdown",
   "metadata": {},
   "source": [
    "# Sudoku\n",
    "The **Sudoku** is a logic-based combinatorial number-placement puzzle (source: [wikipedia](https://en.wikipedia.org/wiki/Sudoku)). The objective is to fill a $9 \\times 9$ grid with digits so that each column, each row, and each of the nine $3 \\times 3$ subgrids that compose the grid contain all of the digits from 1 to 9. \n",
    "\n",
    "The puzzle setter provides a partially completed grid, which for a well-posed puzzle has a single solution.\n",
    "\n",
    "Completed games are always an example of a *Latin square* which include an additional constraint on the contents of individual regions."
   ]
  },
  {
   "cell_type": "markdown",
   "metadata": {},
   "source": [
    "### Example: Game of the day (22-03-2020)\n",
    "An example of an instance of the [game of the day](http://www.dailysudoku.com/sudoku/today.shtml) is a s follows:\n",
    "\n",
    "```\n",
    ". . . | . 9 4 | 8 . .\n",
    ". 2 . | . 1 7 | 5 . .\n",
    ". . 6 | . . . | . 1 .\n",
    "---------------------\n",
    ". 6 2 | . . 8 | . . 7\n",
    ". . . | 3 . 2 | . . .\n",
    "3 . . | 9 . . | 4 2 .\n",
    "---------------------\n",
    ". 9 . | . . . | 6 . .\n",
    ". . 1 | 7 8 . | . 9 .\n",
    ". . 3 | 4 5 . | . . .\n",
    "```\n",
    "\n",
    "We show next how to solve this puzzle (and any other instance of the game) by using **Integer Linear Programming (ILP)**."
   ]
  },
  {
   "cell_type": "markdown",
   "metadata": {},
   "source": [
    "## Integer Linear Programming model\n",
    "A solution strategy for the Sudoku game can be represented by the following **ILP model**.\n",
    "\n",
    "**Decision Variables:** The variable $x_{ijk} \\in \\{0,1\\}$ is equal to 1 if in position $(i,j)$ in the grid we set the digit $k$, and it is equal to 0 otherwise. For easy of exposition, we use the set $I,J,K:=\\{1,\\dots,9\\}$.\n",
    "\n",
    "**Objective function:** Since the problem is a feasibility problem, we can set the objective function equal to a constant value. Otherwise, we can add the sum of every variable, and we will expect an optimal solution of value equal to 81 (this way we avoid also a warning from the solver)."
   ]
  },
  {
   "cell_type": "markdown",
   "metadata": {},
   "source": [
    "**Constraints:** We introduce the following linear constraints, which encode the puzzle rules:\n",
    "\n",
    "1. In every position, we can place a single digit:\n",
    "$$\n",
    "    \\sum_{k \\in K} x_{ijk} = 1, \\;\\; \\forall i \\in I, \\; \\forall j \\in J\n",
    "$$\n",
    "2. Each digit appears once per row:\n",
    "$$\n",
    "    \\sum_{j \\in J} x_{ijk} = 1, \\;\\; \\forall i \\in I, \\; \\forall k \\in K\n",
    "$$\n",
    "3. Each digit appears once per column:\n",
    "$$\n",
    "    \\sum_{i \\in I} x_{ijk} = 1, \\;\\; \\forall j \\in J, \\; \\forall k \\in K\n",
    "$$\n",
    "4. Each digit appears once per block $3 \\times 3$:\n",
    "$$\n",
    "    \\sum_{i \\in I} \\sum_{j \\in J} x_{(i_0+i)(j_0+j)k} = 1, \\;\\; \\forall i_0,j_0 \\in \\{1,4,7\\}, \\;\\forall k \\in K\n",
    "$$\n",
    "5. The digit in the input data must be fixed to 1:\n",
    "$$\n",
    "    x_{ijk} = 1, \\;\\; \\forall i,j \\in I \\times J \\; \\mbox{ such that } \\; Data[i+1][j+1] = 1\n",
    "$$\n",
    "\n",
    "We show next how to implement this model in Pyomo."
   ]
  },
  {
   "cell_type": "markdown",
   "metadata": {},
   "source": [
    "## Pyomo implementation\n",
    "As a first step we import the Pyomo libraries."
   ]
  },
  {
   "cell_type": "code",
   "execution_count": null,
   "metadata": {},
   "outputs": [],
   "source": [
    "from pyomo.environ import ConcreteModel, Var, Objective, Constraint, SolverFactory\n",
    "from pyomo.environ import Binary, RangeSet, ConstraintList"
   ]
  },
  {
   "cell_type": "markdown",
   "metadata": {},
   "source": [
    "We define the input of the problem as a list of list, where the 0 digit is used to denote an unknown cell value."
   ]
  },
  {
   "cell_type": "code",
   "execution_count": null,
   "metadata": {},
   "outputs": [],
   "source": [
    "Data= [[0, 0, 0, 0, 9, 4, 8, 0, 0],\n",
    "        [0, 2, 0, 0, 1, 7, 5, 0, 0],\n",
    "        [0, 0, 6, 0, 0, 0, 0, 1, 0],\n",
    "        [0, 6, 2, 0, 0, 8, 0, 0, 7],\n",
    "        [0, 0, 0, 3, 0, 2, 0, 0, 0],\n",
    "        [3, 0, 0, 9, 0, 0, 4, 2, 0],\n",
    "        [0, 9, 0, 0, 0, 0, 6, 0, 0],\n",
    "        [0, 0, 1, 7, 8, 0, 0, 9, 0],\n",
    "        [0, 0, 3, 4, 5, 0, 0, 0, 0]]"
   ]
  },
  {
   "cell_type": "markdown",
   "metadata": {},
   "source": [
    "Then, we create an instance of the  class *ConcreteModel*, and we start to add the *RangeSet* and *Var* corresponding to the index sets and the variables of our model."
   ]
  },
  {
   "cell_type": "code",
   "execution_count": null,
   "metadata": {},
   "outputs": [],
   "source": [
    "# Create concrete model\n",
    "model = ConcreteModel()\n",
    "\n",
    "# Sudoku of size 9x9, with subsquare 3x3\n",
    "n = 9\n",
    "model.I = RangeSet(1, n)\n",
    "model.J = RangeSet(1, n)\n",
    "model.K = RangeSet(1, n)\n",
    "\n",
    "# Variables\n",
    "model.x = Var(model.I, model.J, model.K, within=Binary)"
   ]
  },
  {
   "cell_type": "markdown",
   "metadata": {},
   "source": [
    "At this point, we set the *dummy* objective function."
   ]
  },
  {
   "cell_type": "code",
   "execution_count": null,
   "metadata": {},
   "outputs": [],
   "source": [
    "# Objective Function\n",
    "model.obj = Objective(\n",
    "    expr = sum(model.x[i,j,k] for i in model.I for j in model.J for k in model.K))"
   ]
  },
  {
   "cell_type": "markdown",
   "metadata": {},
   "source": [
    "Regarding the constraints, we start with the simpler constraints (1)--(3), which set a single digit per cell, per row and per column."
   ]
  },
  {
   "cell_type": "code",
   "execution_count": null,
   "metadata": {},
   "outputs": [],
   "source": [
    "# 1. A single digit for each position\n",
    "model.unique = ConstraintList()\n",
    "for i in model.I:\n",
    "    for j in model.J:\n",
    "        expr = 0\n",
    "        for k in model.K:\n",
    "            expr += model.x[i,j,k]\n",
    "        model.unique.add( expr == 1 )\n",
    "\n",
    "# 2. Row constraints\n",
    "model.rows = ConstraintList()\n",
    "for i in model.I:\n",
    "    for k in model.K:\n",
    "        expr = 0\n",
    "        for j in model.J:\n",
    "            expr += model.x[i,j,k]\n",
    "        model.rows.add( expr == 1 )\n",
    "\n",
    "# 3. Column constraints\n",
    "model.columns = ConstraintList()\n",
    "for j in model.J:\n",
    "    for k in model.K:\n",
    "        expr = 0\n",
    "        for i in model.I:\n",
    "            expr += model.x[i,j,k]\n",
    "        model.columns.add( expr == 1 )"
   ]
  },
  {
   "cell_type": "markdown",
   "metadata": {},
   "source": [
    "Finally, we declare the constraint for the 9 submatrices 3x3, with the following constraint."
   ]
  },
  {
   "cell_type": "code",
   "execution_count": null,
   "metadata": {},
   "outputs": [],
   "source": [
    "# 4. Submatrix constraints\n",
    "model.blocks = ConstraintList()\n",
    "S = [1, 4, 7]\n",
    "for i0 in S:\n",
    "    for j0 in S:\n",
    "        for k in model.K:\n",
    "            expr = 0\n",
    "            for i in range(3):\n",
    "                for j in range(3):\n",
    "                    expr += model.x[i0+i, j0+j,k]\n",
    "            model.blocks.add( expr == 1 )"
   ]
  },
  {
   "cell_type": "code",
   "execution_count": null,
   "metadata": {},
   "outputs": [],
   "source": [
    "# 5. Fix input data\n",
    "for i in range(n):\n",
    "    for j in range(n):\n",
    "        if Data[i][j] > 0:\n",
    "            model.x[i+1,j+1,Data[i][j]].fix(1)"
   ]
  },
  {
   "cell_type": "markdown",
   "metadata": {},
   "source": [
    "At this point, we only need to solve the problem and print the solution in a readable format."
   ]
  },
  {
   "cell_type": "code",
   "execution_count": null,
   "metadata": {},
   "outputs": [],
   "source": [
    "# Solve the model\n",
    "sol = SolverFactory('glpk').solve(model, tee=True)"
   ]
  },
  {
   "cell_type": "code",
   "execution_count": null,
   "metadata": {},
   "outputs": [],
   "source": [
    "print(sol)"
   ]
  },
  {
   "cell_type": "code",
   "execution_count": null,
   "metadata": {},
   "outputs": [],
   "source": [
    "# Print objective value of the solution\n",
    "print(\"objective value:\", model.obj())"
   ]
  },
  {
   "cell_type": "code",
   "execution_count": null,
   "metadata": {},
   "outputs": [],
   "source": [
    "# Print a readable format of the solution\n",
    "for i in model.I:\n",
    "    for j in model.J:\n",
    "        for k in model.K:\n",
    "            if model.x[i,j,k]() > 0:\n",
    "                print(k, end=\"  \")\n",
    "    print()"
   ]
  },
  {
   "cell_type": "markdown",
   "metadata": {},
   "source": [
    "### Prettify Solution\n",
    "As a general recommendation, try to have *pretty* output of your solution that can help **humans** to quickly check visually the solution for likely bugs.\n",
    "\n",
    "For the Sudoku puzzle, we can use the **matplotlib** as follows."
   ]
  },
  {
   "cell_type": "code",
   "execution_count": null,
   "metadata": {},
   "outputs": [],
   "source": [
    "def PlotSudoku(x, size=6):\n",
    "    import matplotlib.pyplot as plt\n",
    "    import numpy as np\n",
    "\n",
    "    boardgame = np.zeros((9, 9))\n",
    "\n",
    "    plt.figure(figsize=(size, size))\n",
    "    plt.imshow(boardgame, cmap='binary')\n",
    "\n",
    "    for i, j, k in x:\n",
    "        if x[i,j,k]() > 0:\n",
    "            if Data[i-1][j-1] == k:\n",
    "                plt.text(i-1, j-1, k, fontsize=4*size, color='red',\n",
    "                     ha='center', va='center')\n",
    "            else:                \n",
    "                plt.text(i-1, j-1, k, fontsize=4*size, color='darkblue',\n",
    "                         ha='center', va='center')\n",
    "             \n",
    "    # Prettify output\n",
    "    for i in range(9):\n",
    "        plt.axhline(y=i+0.5, color='grey', linestyle='--', alpha=0.5)\n",
    "        plt.axvline(x=i+0.5, color='grey', linestyle='--', alpha=0.5)\n",
    "    for i in range(3):\n",
    "        plt.axhline(y=i*3+2.5, color='grey', linestyle='-', lw=2)\n",
    "        plt.axvline(x=i*3+2.5, color='grey', linestyle='-', lw=2)\n",
    "\n",
    "    plt.xticks([])\n",
    "    plt.yticks([])\n",
    "    plt.show()\n",
    "\n",
    "PlotSudoku(model.x)"
   ]
  },
  {
   "cell_type": "markdown",
   "metadata": {},
   "source": [
    "### Optional Exercise\n",
    "Can you use this ILP model of Sudoku to develop an instance generator?\n",
    "\n",
    "> **Enjoy!!**"
   ]
  },
  {
   "cell_type": "code",
   "execution_count": null,
   "metadata": {},
   "outputs": [],
   "source": []
  }
 ],
 "metadata": {
  "kernelspec": {
   "display_name": "Python 3",
   "language": "python",
   "name": "python3"
  },
  "language_info": {
   "codemirror_mode": {
    "name": "ipython",
    "version": 3
   },
   "file_extension": ".py",
   "mimetype": "text/x-python",
   "name": "python",
   "nbconvert_exporter": "python",
   "pygments_lexer": "ipython3",
   "version": "3.7.4"
  },
  "latex_envs": {
   "LaTeX_envs_menu_present": true,
   "autoclose": false,
   "autocomplete": true,
   "bibliofile": "biblio.bib",
   "cite_by": "apalike",
   "current_citInitial": 1,
   "eqLabelWithNumbers": true,
   "eqNumInitial": 1,
   "hotkeys": {
    "equation": "Ctrl-E",
    "itemize": "Ctrl-I"
   },
   "labels_anchors": false,
   "latex_user_defs": false,
   "report_style_numbering": false,
   "user_envs_cfg": false
  }
 },
 "nbformat": 4,
 "nbformat_minor": 2
}
