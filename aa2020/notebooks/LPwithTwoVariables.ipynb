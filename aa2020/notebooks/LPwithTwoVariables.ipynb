{
 "cells": [
  {
   "cell_type": "markdown",
   "metadata": {},
   "source": [
    "<a rel=\"license\" href=\"http://creativecommons.org/licenses/by/4.0/\"><img alt=\"Creative Commons License\" style=\"border-width:0\" src=\"https://i.creativecommons.org/l/by/4.0/88x31.png\" /></a><br /><span xmlns:dct=\"http://purl.org/dc/terms/\" property=\"dct:title\"><b>Solving LP with Two Variables with Pyomo</b></span> by <a xmlns:cc=\"http://creativecommons.org/ns#\" href=\"http://mate.unipv.it/gualandi\" property=\"cc:attributionName\" rel=\"cc:attributionURL\">Stefano Gualandi</a> is licensed under a <a rel=\"license\" href=\"http://creativecommons.org/licenses/by/4.0/\">Creative Commons Attribution 4.0 International License</a>.<br />Based on a work at <a xmlns:dct=\"http://purl.org/dc/terms/\" href=\"https://github.com/mathcoding/opt4ds\" rel=\"dct:source\">https://github.com/mathcoding/opt4ds</a>."
   ]
  },
  {
   "cell_type": "markdown",
   "metadata": {},
   "source": [
    "# 2. Solving LP model with Two Variables with PYOMO\n",
    "\n",
    "In this notebook, we explain how to solve **Linear Programming** problems:\n",
    "\\begin{align}\n",
    "\\max \\quad& c^T x \\\\\n",
    "\\mbox{s.t. } \\quad & Ax \\geq b \\\\\n",
    "& x \\geq 0\n",
    "\\end{align}\n",
    "\n",
    "We begin with a very simple problem with only two positive variables."
   ]
  },
  {
   "cell_type": "markdown",
   "metadata": {},
   "source": [
    "## 2.1 Software Installation\n",
    "If you are running this notebook in a Colab, you don't need to install anything else on your computer.\n",
    "\n",
    "Otherwise, if you have installed the recommended Anaconda Python distribution, you have to run the following two commands:\n",
    "\n",
    "1. To install the [Pyomo](http://www.pyomo.org/) optimization modeling language:\n",
    "\n",
    "```\n",
    "conda install -c conda-forge pyomo\n",
    "```\n",
    "\n",
    "2. To install the open source [GLPK](https://www.gnu.org/software/glpk/) solver:\n",
    "\n",
    "```\n",
    "conda install -c conda-forge glpk\n",
    "```\n",
    "\n",
    "3. (Optional) You can install some extra packages of Pyomo using the following command:\n",
    "\n",
    "```\n",
    "conda install -c conda-forge pyomo.extras\n",
    "```\n",
    "\n",
    "For details about the Pyomo installation, we refer to the official [Pyomo Documentation](https://pyomo.readthedocs.io/en/stable/)."
   ]
  },
  {
   "cell_type": "markdown",
   "metadata": {},
   "source": [
    "The following lines are for running this notebook in a Google Colab:"
   ]
  },
  {
   "cell_type": "code",
   "execution_count": null,
   "metadata": {},
   "outputs": [],
   "source": [
    "import shutil\n",
    "import sys\n",
    "import os.path\n",
    "\n",
    "if not shutil.which(\"pyomo\"):\n",
    "    !pip install -q pyomo\n",
    "    assert(shutil.which(\"pyomo\"))\n",
    "\n",
    "if not (shutil.which(\"glpk\") or os.path.isfile(\"glpk\")):\n",
    "    if \"google.colab\" in sys.modules:\n",
    "        !apt-get install -y -qq glpk-utils\n",
    "    else:\n",
    "        try:\n",
    "            !conda install -c conda-forge glpk \n",
    "        except:\n",
    "            pass"
   ]
  },
  {
   "cell_type": "markdown",
   "metadata": {},
   "source": [
    "## 2.2 Example From the Slides\n",
    "Consider the following example, which is solved graphically on the slide *Introduction to Linear Programming*.\n",
    "\n",
    "We want to solve the following Linear Programming problem:\n",
    "\\begin{align}\n",
    "\\min \\;\\; & -x_1 - x_2 \\\\\n",
    "\\mbox{s.t. } \\;\\; \n",
    "& x_1 + 2x_2 \\leq 3 & \\\\\n",
    "& 2x_1 + x_2 \\leq 3 & \\\\\n",
    "& x_1 \\geq 0 & \\\\\n",
    "& x_2 \\geq 0 & \\\\\n",
    "\\end{align}\n",
    "\n",
    "Note that we have \n",
    "$c = \\left[\\begin{array}{c} -1 \\\\ -1 \\end{array}\\right]$, \n",
    "$A = \\left[ \\begin{array}{cc}1 & 2 \\\\ 2 & 1 \\end{array} \\right]$, and\n",
    "$b = \\left[\\begin{array}{c} 3 \\\\ 3 \\end{array}\\right]$.\n"
   ]
  },
  {
   "cell_type": "code",
   "execution_count": null,
   "metadata": {},
   "outputs": [],
   "source": [
    "from pyomo.environ import *"
   ]
  },
  {
   "cell_type": "code",
   "execution_count": null,
   "metadata": {},
   "outputs": [],
   "source": [
    "model = ConcreteModel()\n",
    "\n",
    "# declare decision variables\n",
    "model.x1 = Var(domain=NonNegativeReals)\n",
    "model.x2 = Var(domain=NonNegativeReals)\n",
    "\n",
    "# declare objective\n",
    "model.cost = Objective(\n",
    "    expr = - model.x1 - model.x2,\n",
    "    sense = minimize)\n",
    "\n",
    "# declare constraints\n",
    "model.cnstr1 = Constraint(expr = model.x1 + 2*model.x2 <= 3)\n",
    "model.cnstr2 = Constraint(expr = 2*model.x1 + model.x2 <= 3)\n",
    "\n",
    "# solve\n",
    "sol = SolverFactory('glpk').solve(model)"
   ]
  },
  {
   "cell_type": "markdown",
   "metadata": {},
   "source": [
    "To check the optimal value of the decision variables:"
   ]
  },
  {
   "cell_type": "code",
   "execution_count": null,
   "metadata": {},
   "outputs": [],
   "source": [
    "print(\"x1 = {}, x2 = {}\".format(model.x1(), model.x2()))"
   ]
  },
  {
   "cell_type": "markdown",
   "metadata": {},
   "source": [
    "Note that in the previous example, the model variable are used as they were a function (with round parenthesis) to get their values.\n",
    "\n",
    "Similirayl, in order to get the optimal solution value, you can type:"
   ]
  },
  {
   "cell_type": "code",
   "execution_count": null,
   "metadata": {},
   "outputs": [],
   "source": [
    "print(\"f(x1,x2) = {}\", model.cost())"
   ]
  },
  {
   "cell_type": "markdown",
   "metadata": {},
   "source": [
    "## 2.3 Graphical Solution\n",
    "In the following snippets, we show a graphical interpretation of the LP with two variables of the previous section. All the snippets are very similir, and they are executed to produce the plots inserted into the slides used during the lecture."
   ]
  },
  {
   "cell_type": "code",
   "execution_count": null,
   "metadata": {},
   "outputs": [],
   "source": [
    "from pylab import *\n",
    "figure(figsize=(6, 6))\n",
    "subplot(111, aspect='equal')\n",
    "axis([0, 3.5, 0, 3.5])\n",
    "xlabel('$x_1$')\n",
    "ylabel('$x_2$')\n",
    "\n",
    "# First constraint\n",
    "x = array([0, 3])\n",
    "y = 3/2 - 1/2*x\n",
    "plot(x, y, 'g', lw=2)\n",
    "fill_between([0, 3, 2], [1.5, 0, 0], [0, 0, 0], color='g', alpha=0.15)\n",
    "\n",
    "t1 = annotate('$x_1 + 2x_2 \\leq 3$', xy=(2,0.5), xytext=(2.5, 0.7),\n",
    "         arrowprops=dict(shrink=0.1, width=2, headwidth=10, color='g'))\n",
    "savefig(\"example16a.pdf\", bbox_inches='tight')"
   ]
  },
  {
   "cell_type": "code",
   "execution_count": null,
   "metadata": {},
   "outputs": [],
   "source": [
    "figure(figsize=(6, 6))\n",
    "subplot(111, aspect='equal')\n",
    "axis([0, 3.5, 0, 3.5])\n",
    "xlabel('$x_1$')\n",
    "ylabel('$x_2$')\n",
    "\n",
    "# Second constraint\n",
    "x = array([0, 1.5])\n",
    "y = 3 - 2*x\n",
    "plot(x, y, 'b', lw=2)\n",
    "fill_between([0, 1.5, 100], [3, 0, 0], [0, 0, 0], color='b', alpha=0.15)\n",
    "\n",
    "t2 = annotate('$2x_1 + x_2 \\leq 3$', xy=(0.25,2.5), xytext=(0.7, 2.5),\n",
    "         arrowprops=dict(shrink=0.1, width=2, headwidth=10, color='b'))\n",
    "savefig(\"example16b.pdf\", bbox_inches='tight')"
   ]
  },
  {
   "cell_type": "code",
   "execution_count": null,
   "metadata": {},
   "outputs": [],
   "source": [
    "from pylab import *\n",
    "figure(figsize=(6, 6))\n",
    "subplot(111, aspect='equal')\n",
    "axis([0, 3.5, 0, 3.5])\n",
    "xlabel('$x_1$')\n",
    "ylabel('$x_2$')\n",
    "\n",
    "# First constraint\n",
    "x = array([0, 3])\n",
    "y = 3/2 - 1/2*x\n",
    "plot(x, y, 'g', lw=2)\n",
    "fill_between([0, 3, 2], [1.5, 0, 0], [0, 0, 0], color='g', alpha=0.15)\n",
    "\n",
    "# Second constraint\n",
    "x = array([0, 1.5])\n",
    "y = 3 - 2*x\n",
    "plot(x, y, 'b', lw=2)\n",
    "fill_between([0, 1.5, 100], [3, 0, 0], [0, 0, 0], color='b', alpha=0.15)\n",
    "\n",
    "annotate('$x_1 + 2x_2 \\leq 3$', xy=(2,0.5), xytext=(2.5, 0.7),\n",
    "         arrowprops=dict(shrink=0.1, width=2, headwidth=10, color='g'))\n",
    "\n",
    "annotate('$2x_1 + x_2 \\leq 3$', xy=(0.25,2.5), xytext=(0.7, 2.5),\n",
    "         arrowprops=dict(shrink=0.1, width=2, headwidth=10, color='b'))\n",
    "\n",
    "legend(['Constraint 1','Constraint 2'])\n",
    "savefig(\"example16c.pdf\", bbox_inches='tight')"
   ]
  },
  {
   "cell_type": "code",
   "execution_count": null,
   "metadata": {},
   "outputs": [],
   "source": [
    "from pylab import *\n",
    "figure(figsize=(6, 6))\n",
    "subplot(111, aspect='equal')\n",
    "axis([0, 3.5, 0, 3.5])\n",
    "xlabel('$x_1$')\n",
    "ylabel('$x_2$')\n",
    "\n",
    "# First constraint\n",
    "x = array([0, 3])\n",
    "y = 3/2 - 1/2*x\n",
    "plot(x, y, 'g', lw=2)\n",
    "fill_between([0, 3, 2], [1.5, 0, 0], [0, 0, 0], color='g', alpha=0.15)\n",
    "\n",
    "# Second constraint\n",
    "x = array([0, 1.5])\n",
    "y = 3 - 2*x\n",
    "plot(x, y, 'b', lw=2)\n",
    "fill_between([0, 1.5, 100], [3, 0, 0], [0, 0, 0], color='b', alpha=0.15)\n",
    "\n",
    "t1 = annotate('$x_1 + 2x_2 \\leq 3$', xy=(2,0.5), xytext=(2.5, 0.7),\n",
    "         arrowprops=dict(shrink=0.1, width=2, headwidth=10, color='g'))\n",
    "\n",
    "t2 = annotate('$2x_1 + x_2 \\leq 3$', xy=(0.25,2.5), xytext=(0.7, 2.5),\n",
    "         arrowprops=dict(shrink=0.1, width=2, headwidth=10, color='b'))\n",
    "\n",
    "# Objective function\n",
    "x = array([0, 4])\n",
    "for p in linspace(0, 10, 21):\n",
    "    y = p - x\n",
    "    plot(x,y,'y--', color='red', alpha=0.3)\n",
    "\n",
    "text(0.1,0.6,'Decreasing Cost')\n",
    "annotate('', xy=(0.5, 0.5), xytext=(0, 0),\n",
    "          arrowprops=dict(width=0.5, headwidth=5, color='r'))\n",
    "savefig(\"example16d.pdf\", bbox_inches='tight')"
   ]
  },
  {
   "cell_type": "code",
   "execution_count": null,
   "metadata": {},
   "outputs": [],
   "source": [
    "from pylab import *\n",
    "figure(figsize=(6, 6))\n",
    "subplot(111, aspect='equal')\n",
    "axis([0, 3.5, 0, 3.5])\n",
    "xlabel('$x_1$')\n",
    "ylabel('$x_2$')\n",
    "\n",
    "# First constraint\n",
    "x = array([0, 3])\n",
    "y = 3/2 - 1/2*x\n",
    "plot(x, y, 'g', lw=2)\n",
    "fill_between([0, 3, 2], [1.5, 0, 0], [0, 0, 0], color='g', alpha=0.15)\n",
    "\n",
    "# Second constraint\n",
    "x = array([0, 1.5])\n",
    "y = 3 - 2*x\n",
    "plot(x, y, 'b', lw=2)\n",
    "fill_between([0, 1.5, 100], [3, 0, 0], [0, 0, 0], color='b', alpha=0.15)\n",
    "\n",
    "legend(['Constraint 1','Constraint 2'])\n",
    "\n",
    "# Put some arrows\n",
    "plot(1.5,0,'b.',ms=20)\n",
    "annotate('$x_1$ only', xy=(1.5,0), xytext=(2, 0.1),\n",
    "         arrowprops=dict(shrink=0.1, width=2, headwidth=10, color='r'))\n",
    "\n",
    "annotate('$x_1 + 2x_2 \\leq 3$', xy=(2,0.5), xytext=(2.5, 0.7),\n",
    "         arrowprops=dict(shrink=0.1, width=2, headwidth=10, color='g'))\n",
    "\n",
    "plot(0,1.5,'g.',ms=20)\n",
    "annotate('$x_2$ only', xy=(0,1.5), xytext=(1.0, 2.0),\n",
    "          arrowprops=dict(shrink=0.1, width=2, headwidth=10, color='r'))\n",
    "\n",
    "annotate('$2x_1 + x_2 \\leq 3$', xy=(0.25,2.5), xytext=(0.7, 2.5),\n",
    "         arrowprops=dict(shrink=0.1, width=2, headwidth=10, color='b'))\n",
    "\n",
    "# Objective function\n",
    "x = array([0, 4])\n",
    "for p in linspace(0, 10, 21):\n",
    "    y = p - x\n",
    "    plot(x,y,'y--', color='red', alpha=0.3)\n",
    "\n",
    "# Optimum\n",
    "plot(1,1,'r.',ms=20)\n",
    "annotate('Optimal Solution', xy=(1,1), xytext=(2,1.5),\n",
    "          arrowprops=dict(shrink=.1, width=2, headwidth=10, color='r'))\n",
    "\n",
    "text(0.1,0.6,'Decreasing Cost')\n",
    "t3 = annotate('', xy=(0.5, 0.5), xytext=(0, 0),\n",
    "          arrowprops=dict(width=0.5, headwidth=5, color='r'))\n",
    "savefig(\"example16d.pdf\", bbox_inches='tight')"
   ]
  },
  {
   "cell_type": "code",
   "execution_count": null,
   "metadata": {},
   "outputs": [],
   "source": []
  }
 ],
 "metadata": {
  "kernelspec": {
   "display_name": "Python 3",
   "language": "python",
   "name": "python3"
  },
  "language_info": {
   "codemirror_mode": {
    "name": "ipython",
    "version": 3
   },
   "file_extension": ".py",
   "mimetype": "text/x-python",
   "name": "python",
   "nbconvert_exporter": "python",
   "pygments_lexer": "ipython3",
   "version": "3.7.4"
  },
  "latex_envs": {
   "LaTeX_envs_menu_present": true,
   "autoclose": false,
   "autocomplete": true,
   "bibliofile": "biblio.bib",
   "cite_by": "apalike",
   "current_citInitial": 1,
   "eqLabelWithNumbers": true,
   "eqNumInitial": 1,
   "hotkeys": {
    "equation": "Ctrl-E",
    "itemize": "Ctrl-I"
   },
   "labels_anchors": false,
   "latex_user_defs": false,
   "report_style_numbering": false,
   "user_envs_cfg": false
  }
 },
 "nbformat": 4,
 "nbformat_minor": 2
}
