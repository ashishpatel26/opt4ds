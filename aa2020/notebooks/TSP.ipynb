{
 "cells": [
  {
   "cell_type": "markdown",
   "metadata": {},
   "source": [
    "<a rel=\"license\" href=\"http://creativecommons.org/licenses/by/4.0/\"><img alt=\"Creative Commons License\" style=\"border-width:0\" src=\"https://i.creativecommons.org/l/by/4.0/88x31.png\" /></a><br /><span xmlns:dct=\"http://purl.org/dc/terms/\" property=\"dct:title\"><b>The Traveling Salesman Problem</b></span> by <a xmlns:cc=\"http://creativecommons.org/ns#\" href=\"http://mate.unipv.it/gualandi\" property=\"cc:attributionName\" rel=\"cc:attributionURL\">Stefano Gualandi</a> is licensed under a <a rel=\"license\" href=\"http://creativecommons.org/licenses/by/4.0/\">Creative Commons Attribution 4.0 International License</a>.<br />Based on a work at <a xmlns:dct=\"http://purl.org/dc/terms/\" href=\"https://github.com/mathcoding/opt4ds\" rel=\"dct:source\">https://github.com/mathcoding/opt4ds</a>."
   ]
  },
  {
   "cell_type": "markdown",
   "metadata": {},
   "source": [
    "# 4. The Traveling Salesman Problem\n",
    "In this notebook, we show how to solve the *Ticket Student Selling Problem* (known in the academic literature as the **Traveling Sales Problem (TSP)**) by using Integer Linear Programming.\n",
    "\n",
    "For a nice source of nice information about the TSP problem, please, visit the [TSP webiste](http://www.math.uwaterloo.ca/tsp/)"
   ]
  },
  {
   "cell_type": "markdown",
   "metadata": {},
   "source": [
    "The following lines are for running this notebook in a COLAB:"
   ]
  },
  {
   "cell_type": "code",
   "execution_count": null,
   "metadata": {},
   "outputs": [],
   "source": [
    "import shutil\n",
    "import sys\n",
    "import os.path\n",
    "\n",
    "if not shutil.which(\"pyomo\"):\n",
    "    !pip install -q pyomo\n",
    "    assert(shutil.which(\"pyomo\"))\n",
    "\n",
    "if not (shutil.which(\"glpk\") or os.path.isfile(\"glpk\")):\n",
    "    if \"google.colab\" in sys.modules:\n",
    "        !apt-get install -y -qq glpk-utils\n",
    "    else:\n",
    "        try:\n",
    "            !conda install -c conda-forge glpk \n",
    "        except:\n",
    "            pass"
   ]
  },
  {
   "cell_type": "markdown",
   "metadata": {},
   "source": [
    "## 4.1 Introduction\n",
    "A student from the University of Pavia must sell the tickets for the next post-Covid19 re-opening party, planned on March, 1st, 2021. For this reason, she must visit all the $n$ residences of the city exactly once, and then she has to return back to her own residence.\n",
    "\n",
    "The time taken to go from residence $i$ to residence $j$ is $c_{ij}$, and the visiting time is fixed for each residence. The student wants to find the order which permits to be back as soon as possible, in order to study for the next very challenging exam on Optimization Models and Algorithms.\n",
    "\n",
    "The input data are: \n",
    "\n",
    "* The number of residences $n$ in Pavia, with a mapping of residence to indices $I=\\{1,\\dots,n\\}$.\n",
    "* The cost matrix $C$ with all the pairwise distances between the residences."
   ]
  },
  {
   "cell_type": "markdown",
   "metadata": {},
   "source": [
    "## 4.2 Primal Heuristic\n",
    "Any permutation of the $n$ residence represents a feasible solution.\n",
    "\n",
    "The residence locations are given as a list of pair of coordinates:\n",
    "\n",
    "```\n",
    "Ls = [(38.24, 20.42), (39.57, 26.15), (40.56, 25.32), (36.26, 23.12),\n",
    "           (33.48, 10.54), (37.56, 12.19), (38.42, 13.11), (37.52, 20.44),\n",
    "           (41.23, 9.10), (41.17, 13.05), (36.08, -5.21), (38.47, 15.13), \n",
    "           (38.15, 15.35), (37.51, 15.17), (35.49, 14.32), (39.36, 19.56)]\n",
    "```\n",
    "\n",
    "The cost matrix can be computed with the following function:"
   ]
  },
  {
   "cell_type": "code",
   "execution_count": 33,
   "metadata": {},
   "outputs": [],
   "source": [
    "import numpy as np\n",
    "from math import sqrt\n",
    "\n",
    "def CostMatrix(Ls):\n",
    "    n = len(Ls)\n",
    "    C = 100000*np.ones((n,n)) # Very high cost to forbid stay trapped in a residence\n",
    "    for i, (a,b) in enumerate(Ls):\n",
    "        for j, (c,d) in enumerate(Ls[i+1:]):\n",
    "            C[i, i+j+1] = sqrt((a-c)**2 + (b-d)**2)\n",
    "            C[i+j+1, i] = C[i, i+j+1]\n",
    "            \n",
    "    return C"
   ]
  },
  {
   "cell_type": "code",
   "execution_count": 34,
   "metadata": {},
   "outputs": [],
   "source": [
    "Ls = [(38.24, 20.42), (39.57, 26.15), (40.56, 25.32), (36.26, 23.12),\n",
    "           (33.48, 10.54), (37.56, 12.19), (38.42, 13.11), (37.52, 20.44),\n",
    "           (41.23, 9.10), (41.17, 13.05), (36.08, -5.21), (38.47, 15.13), \n",
    "           (38.15, 15.35), (37.51, 15.17), (35.49, 14.32), (39.36, 19.56)]\n",
    "\n",
    "C = CostMatrix(Ls)"
   ]
  },
  {
   "cell_type": "markdown",
   "metadata": {},
   "source": [
    "Any permutation is a feasible solution (likely, far from being optimal):"
   ]
  },
  {
   "cell_type": "code",
   "execution_count": 35,
   "metadata": {},
   "outputs": [],
   "source": [
    "tour = [(i,i+1) for i in range(len(Ls)-1)]\n",
    "# From the last residence back to the first one\n",
    "tour = tour + [(tour[-1][1],tour[0][0])]"
   ]
  },
  {
   "cell_type": "code",
   "execution_count": 39,
   "metadata": {},
   "outputs": [
    {
     "data": {
      "text/plain": [
       "[(0, 1),\n",
       " (1, 2),\n",
       " (2, 3),\n",
       " (3, 4),\n",
       " (4, 5),\n",
       " (5, 6),\n",
       " (6, 7),\n",
       " (7, 8),\n",
       " (8, 9),\n",
       " (9, 10),\n",
       " (10, 11),\n",
       " (11, 12),\n",
       " (12, 13),\n",
       " (13, 14),\n",
       " (14, 15),\n",
       " (15, 0)]"
      ]
     },
     "execution_count": 39,
     "metadata": {},
     "output_type": "execute_result"
    }
   ],
   "source": [
    "tour"
   ]
  },
  {
   "cell_type": "markdown",
   "metadata": {},
   "source": [
    "**EXERCISE 1:** Write a function to compute the cost of a given tour."
   ]
  },
  {
   "cell_type": "markdown",
   "metadata": {},
   "source": [
    "## 4.2 Plotting Solutions\n",
    "If the points can be displayed in a plane, we can use matplotlib to represent a (partial) solution of our problem"
   ]
  },
  {
   "cell_type": "code",
   "execution_count": 27,
   "metadata": {},
   "outputs": [],
   "source": [
    "def PlotTour(Ps, Ls):\n",
    "    # Report solution value\n",
    "    import matplotlib.pyplot as plt\n",
    "    import numpy as np\n",
    "    import pylab as pl\n",
    "    from matplotlib import collections  as mc\n",
    "\n",
    "    lines = [[Ps[i], Ps[j]] for i,j in Ls]\n",
    "\n",
    "    lc = mc.LineCollection(lines, linewidths=2)\n",
    "    fig, ax = pl.subplots()\n",
    "    ax.add_collection(lc)\n",
    "    ax.autoscale()\n",
    "    ax.margins(0.1)"
   ]
  },
  {
   "cell_type": "markdown",
   "metadata": {},
   "source": [
    "To plot a solution as a list of sequential pairs:"
   ]
  },
  {
   "cell_type": "code",
   "execution_count": 32,
   "metadata": {},
   "outputs": [
    {
     "data": {
      "image/png": "[encoded data removed]",
      "text/plain": [
       "<Figure size 432x288 with 1 Axes>"
      ]
     },
     "metadata": {
      "needs_background": "light"
     },
     "output_type": "display_data"
    }
   ],
   "source": [
    "PlotTour(Ls, tour)"
   ]
  },
  {
   "cell_type": "markdown",
   "metadata": {},
   "source": [
    "**QUESTION:** How far we are from the optimum value?"
   ]
  },
  {
   "cell_type": "markdown",
   "metadata": {},
   "source": [
    "## 4.3 Integer Linear Programming Model\n",
    "For each ordered pair $(i,j) \\in I \\times I, i \\neq j$, we introduce a binary decision variable $x_{ij} \\in \\{0,1\\}$, which indicates if the student travels from residence $i$ to $j$.\n",
    "\n",
    "**EXERCISE 2:** Write a possible ILP model to solve this problem"
   ]
  },
  {
   "cell_type": "code",
   "execution_count": 41,
   "metadata": {},
   "outputs": [],
   "source": [
    "# Complete the following code\n",
    "def SolveTSP(C):\n",
    "    pass"
   ]
  },
  {
   "cell_type": "markdown",
   "metadata": {},
   "source": [
    "**EXERCISE 3:** Debug your ILP model, please!"
   ]
  },
  {
   "cell_type": "markdown",
   "metadata": {},
   "source": [
    "**EXERCISE 4:** Improve your model to provide a tighter LP relaxation at the root node."
   ]
  },
  {
   "cell_type": "markdown",
   "metadata": {},
   "source": [
    "## 4.4 Larger Instances\n",
    "Once you have find a model that correctly solves the given TSP instance, try to solve the following larger instance, which contains the coordinates of a number of villages in Baviera."
   ]
  },
  {
   "cell_type": "code",
   "execution_count": 37,
   "metadata": {},
   "outputs": [],
   "source": [
    "BAVIERA = [(1150.0,  1760.0), (630.0,  1660.0),  (40.0,  2090.0),    (750.0,  1100.0), \n",
    "  (1030.0,  2070.0), (1650.0,   650.0), (1490.0,  1630.0),  (790.0,  2260.0),\n",
    "  (710.0,  1310.0),  (840.0,   550.0),  (1170.0,  2300.0),  (970.0,  1340.0),\n",
    "  (510.0,   700.0),  (750.0,   900.0),  (1280.0,  1200.0),  (230.0,   590.0),\n",
    "  (460.0,   860.0),  (1040.0,   950.0), (590.0,  1390.0),   (830.0,  1770.0),\n",
    "  (490.0,   500.0),  (1840.0,  1240.0), (1260.0,  1500.0),  (1280.0,  790.0),\n",
    "  (490.0,  2130.0),  (1460.0,  1420.0), (1260.0,  1910.0),  (360.0,  1980.0),\n",
    "  (750.0,  2030.0)]   "
   ]
  },
  {
   "cell_type": "markdown",
   "metadata": {},
   "source": [
    "If you can solve also this instance in a few seconds, then you can try to evaluate how your model scale with an increasing number of cities, by using the following random instance generator:"
   ]
  },
  {
   "cell_type": "code",
   "execution_count": 38,
   "metadata": {},
   "outputs": [],
   "source": [
    "def RandomTSP(n):\n",
    "    from numpy import random\n",
    "    return [(x,y) for x,y in zip(random.random(n), random.random(n))]\n",
    "\n",
    "for n in [50, 75, 100, 150, 200]:\n",
    "    Ls = RandomTSP(100)\n",
    "    # solve tsp with your model"
   ]
  },
  {
   "cell_type": "code",
   "execution_count": null,
   "metadata": {},
   "outputs": [],
   "source": []
  }
 ],
 "metadata": {
  "kernelspec": {
   "display_name": "Python 3",
   "language": "python",
   "name": "python3"
  },
  "language_info": {
   "codemirror_mode": {
    "name": "ipython",
    "version": 3
   },
   "file_extension": ".py",
   "mimetype": "text/x-python",
   "name": "python",
   "nbconvert_exporter": "python",
   "pygments_lexer": "ipython3",
   "version": "3.7.4"
  },
  "latex_envs": {
   "LaTeX_envs_menu_present": true,
   "autoclose": false,
   "autocomplete": true,
   "bibliofile": "biblio.bib",
   "cite_by": "apalike",
   "current_citInitial": 1,
   "eqLabelWithNumbers": true,
   "eqNumInitial": 1,
   "hotkeys": {
    "equation": "Ctrl-E",
    "itemize": "Ctrl-I"
   },
   "labels_anchors": false,
   "latex_user_defs": false,
   "report_style_numbering": false,
   "user_envs_cfg": false
  }
 },
 "nbformat": 4,
 "nbformat_minor": 2
}
