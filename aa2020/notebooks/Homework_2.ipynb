{
 "cells": [
  {
   "cell_type": "markdown",
   "metadata": {},
   "source": [
    "# Data Fitting COVID19\n",
    "Exercise for the second lab session."
   ]
  },
  {
   "cell_type": "markdown",
   "metadata": {},
   "source": [
    "### Running this notebook on Colab\n",
    "Run the following snippet if you are running this notebook in [Colab](https://colab.research.google.com/)."
   ]
  },
  {
   "cell_type": "code",
   "execution_count": null,
   "metadata": {},
   "outputs": [],
   "source": [
    "import shutil\n",
    "import sys\n",
    "import os.path\n",
    "\n",
    "if not shutil.which(\"pyomo\"):\n",
    "    !pip install -q pyomo\n",
    "    assert(shutil.which(\"pyomo\"))\n",
    "\n",
    "if not (shutil.which(\"ipopt\") or os.path.isfile(\"ipopt\")):\n",
    "    if \"google.colab\" in sys.modules:\n",
    "        !wget -N -q \"https://ampl.com/dl/open/ipopt/ipopt-linux64.zip\"\n",
    "        !unzip -o -q ipopt-linux64\n",
    "    else:\n",
    "        try:\n",
    "            !conda install -c conda-forge ipopt \n",
    "        except:\n",
    "            pass"
   ]
  },
  {
   "cell_type": "markdown",
   "metadata": {},
   "source": [
    "## Discrete Time Model\n",
    "The **SIR model** considers a population of $N$ individuals partitioned into three groups: (i) Susceptible, (ii) Infectious, and (iii) Recovered. The number of individuals at time $t$ is each group is denoted by $S(t)$, $I(t)$, and $R(t)$, respectively. Since the model do not consider births and deaths, we have at any time of outbreak:\n",
    "$$\n",
    "    N = S(t) + I(t) + R(t).\n",
    "$$"
   ]
  },
  {
   "cell_type": "markdown",
   "metadata": {},
   "source": [
    "The previous model can be discretized thus obtaining the following **discrete time model**:\n",
    "$$\n",
    "S(t+1) = S(t) - \\frac{\\beta}{N} I(t) S(t), \\;\\;\\;\\;\\;\\;\\;\\;\\;\\;\n",
    "$$\n",
    "$$\n",
    "I(t+1) = I(t) + \\frac{\\beta}{N} S(t) I(t) - \\gamma I(t), \n",
    "$$\n",
    "$$\n",
    "R(t+1) = R(t) + \\gamma I(t) \\;\\;\\;\\;\\;\\;\\;\\;\\;\\;\\;\\;\\;\\;\\;\\;\\;\n",
    "$$\n",
    "\n",
    "Intuitively, we have that proportion of individuals moving at unit of time $t+1$ from the susceptible group $S$ to the infected groups $I$ is equal to $\\frac{\\beta}{N} I(t) S(t)$. The proportion of individuals moving at unit of time $t+1$ from the infected group $I$ to the recovered groups $R$ is equal to $\\gamma I(t)$."
   ]
  },
  {
   "cell_type": "markdown",
   "metadata": {},
   "source": [
    "The dynamic of the system is completely described by the two parameters $\\beta$ and $\\gamma$, and the initial conditions $S(0)$, $I(0)$, and $R(0)$.\n",
    "\n",
    "> Note: The goal of this post is to present a data fitting approach to estimate the two parameters $\\gamma$ and $\\beta$, given the data of an outbreak which is not yet concluded. That is, we have reasonable good estimate of $I(t)$ and $R(t)$ for all $t \\leq \\bar t$, but we have to estimate those values for $t > \\bar t$."
   ]
  },
  {
   "cell_type": "markdown",
   "metadata": {},
   "source": [
    "### Your Model\n",
    "You can write your model below."
   ]
  },
  {
   "cell_type": "code",
   "execution_count": null,
   "metadata": {},
   "outputs": [],
   "source": [
    "import matplotlib.pyplot as plt\n",
    "\n",
    "\n",
    "def MovingAvg(Ls, w=3):\n",
    "    \"\"\" Moving average of input data, with time window of w days \"\"\"\n",
    "    Ws = [0 for i in range(w-1)] + Ls\n",
    "    return [sum(Ws[i:i+w])/w for i in range(len(Ws)-w+1)]\n",
    "\n",
    "# Data for Lombardia+Veneto+Emilia Romagna\n",
    "x = [1, 5, 20, 62, 155, 216, 299, 364, 554, 766, 954, 1425, 1672,\n",
    "        2021, 2358, 2815, 3278, 4184, 5092, 6470, 6627, 8291, 9951,\n",
    "        11196, 13183, 14773, 16223, 17987, 19134, 21613, 24186, 27245,\n",
    "        28919, 31116, 32930, 34592, 37179, \n",
    "        39904, 41386, 43178, 43336, 43927]\n",
    "\n",
    "Ls = MovingAvg(x, 7)\n",
    "\n",
    "# the barplot of the data\n",
    "plt.title('Italy - From 24/02 to 26/03')\n",
    "plt.ylabel('Covid19 Infected')\n",
    "plt.xlabel('Days')\n",
    "plt.grid(True)\n",
    "\n",
    "plt.bar([i for i in range(len(Ls))], Ls, facecolor='green', alpha=0.75)\n",
    "\n",
    "plt.show()"
   ]
  },
  {
   "cell_type": "markdown",
   "metadata": {},
   "source": [
    "COMPLETE WITH YOUR CODE BELOW."
   ]
  },
  {
   "cell_type": "code",
   "execution_count": null,
   "metadata": {},
   "outputs": [],
   "source": [
    "from pyomo.environ import ConcreteModel, Var, Objective, Constraint, SolverFactory\n",
    "from pyomo.environ import maximize, minimize, Binary, RangeSet, ConstraintList\n",
    "\n",
    "# WRITE YOUR MODEL"
   ]
  }
 ],
 "metadata": {
  "kernelspec": {
   "display_name": "Python 3",
   "language": "python",
   "name": "python3"
  },
  "language_info": {
   "codemirror_mode": {
    "name": "ipython",
    "version": 3
   },
   "file_extension": ".py",
   "mimetype": "text/x-python",
   "name": "python",
   "nbconvert_exporter": "python",
   "pygments_lexer": "ipython3",
   "version": "3.7.4"
  },
  "latex_envs": {
   "LaTeX_envs_menu_present": true,
   "autoclose": false,
   "autocomplete": true,
   "bibliofile": "biblio.bib",
   "cite_by": "apalike",
   "current_citInitial": 1,
   "eqLabelWithNumbers": true,
   "eqNumInitial": 1,
   "hotkeys": {
    "equation": "Ctrl-E",
    "itemize": "Ctrl-I"
   },
   "labels_anchors": false,
   "latex_user_defs": false,
   "report_style_numbering": false,
   "user_envs_cfg": false
  }
 },
 "nbformat": 4,
 "nbformat_minor": 2
}
